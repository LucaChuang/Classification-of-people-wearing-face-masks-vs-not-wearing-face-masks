{
  "nbformat": 4,
  "nbformat_minor": 0,
  "metadata": {
    "colab": {
      "name": "Project2_Team1.ipynb",
      "provenance": [],
      "collapsed_sections": [],
      "toc_visible": true,
      "include_colab_link": true
    },
    "kernelspec": {
      "name": "python3",
      "display_name": "Python 3"
    }
  },
  "cells": [
    {
      "cell_type": "markdown",
      "metadata": {
        "id": "view-in-github",
        "colab_type": "text"
      },
      "source": [
        "<a href=\"https://colab.research.google.com/github/LucaChuang/Classification-of-people-wearing-face-masks-vs-not-wearing-face-masks/blob/main/Project2_Team1.ipynb\" target=\"_parent\"><img src=\"https://colab.research.google.com/assets/colab-badge.svg\" alt=\"Open In Colab\"/></a>"
      ]
    },
    {
      "cell_type": "code",
      "metadata": {
        "id": "OcJHR7SQp8U1",
        "colab": {
          "base_uri": "https://localhost:8080/",
          "height": 35
        },
        "outputId": "e9d71a9a-a806-4829-a535-e4f0734d9afc"
      },
      "source": [
        "import numpy as np\n",
        "import keras\n",
        "from keras import optimizers\n",
        "keras.__version__"
      ],
      "execution_count": null,
      "outputs": [
        {
          "output_type": "execute_result",
          "data": {
            "application/vnd.google.colaboratory.intrinsic+json": {
              "type": "string"
            },
            "text/plain": [
              "'2.4.3'"
            ]
          },
          "metadata": {
            "tags": []
          },
          "execution_count": 23
        }
      ]
    },
    {
      "cell_type": "code",
      "metadata": {
        "id": "85lkqzSn9leP",
        "colab": {
          "base_uri": "https://localhost:8080/",
          "height": 34
        },
        "outputId": "24c0a610-0544-4e1c-c520-eb1730c9dbac"
      },
      "source": [
        "from google.colab import drive, files\n",
        "drive.mount('/content/drive/')"
      ],
      "execution_count": null,
      "outputs": [
        {
          "output_type": "stream",
          "text": [
            "Drive already mounted at /content/drive/; to attempt to forcibly remount, call drive.mount(\"/content/drive/\", force_remount=True).\n"
          ],
          "name": "stdout"
        }
      ]
    },
    {
      "cell_type": "markdown",
      "metadata": {
        "id": "gmqD7kGauSs6"
      },
      "source": [
        "# Set up path"
      ]
    },
    {
      "cell_type": "markdown",
      "metadata": {
        "id": "kEjTslufc8Q2"
      },
      "source": [
        "Image shared files link:\n",
        "\n",
        "https://drive.google.com/drive/folders/1sbNrKQUyzkI8SXjlYq2OrDHIAoYQY_St?usp=sharing"
      ]
    },
    {
      "cell_type": "code",
      "metadata": {
        "id": "XphiI2iR_toa"
      },
      "source": [
        "path = \"/content/drive/Shared drives/Deep Learning Team1/Project2/project image/\" \n",
        "\n",
        "# set up a train_dir and test_dir for train and test data\n",
        "train_dir = path + \"train\"\n",
        "test_dir = path + \"test\""
      ],
      "execution_count": null,
      "outputs": []
    },
    {
      "cell_type": "markdown",
      "metadata": {
        "id": "9CR-YRKqAzwy"
      },
      "source": [
        "# Data preprocessing"
      ]
    },
    {
      "cell_type": "code",
      "metadata": {
        "id": "C7nuiB8DAK4q",
        "colab": {
          "base_uri": "https://localhost:8080/",
          "height": 50
        },
        "outputId": "c767f593-560b-488c-bb80-d67dd1e3fb43"
      },
      "source": [
        "from keras.preprocessing.image import ImageDataGenerator\n",
        "\n",
        "# All images will be rescaled by 1./255\n",
        "train_datagen = ImageDataGenerator(rescale=1./255)\n",
        "test_datagen = ImageDataGenerator(rescale=1./255)\n",
        "\n",
        "# train_generator contain information of train images.\n",
        "train_generator = train_datagen.flow_from_directory(\n",
        "        # This is the target directory\n",
        "        train_dir,\n",
        "        # All images will be resized to 150x150\n",
        "        target_size=(150, 150),\n",
        "        batch_size=20,\n",
        "        # Since we use binary_crossentropy loss, we need binary labels\n",
        "        class_mode='binary')\n",
        "\n",
        "# test_generator contain informaion of test images.\n",
        "test_generator = test_datagen.flow_from_directory(\n",
        "        test_dir,\n",
        "        target_size=(150, 150),\n",
        "        batch_size=20,\n",
        "        class_mode='binary')"
      ],
      "execution_count": null,
      "outputs": [
        {
          "output_type": "stream",
          "text": [
            "Found 817 images belonging to 2 classes.\n",
            "Found 200 images belonging to 2 classes.\n"
          ],
          "name": "stdout"
        }
      ]
    },
    {
      "cell_type": "code",
      "metadata": {
        "id": "piB2JbQXA39D",
        "colab": {
          "base_uri": "https://localhost:8080/",
          "height": 50
        },
        "outputId": "11416fb3-757d-42a3-9ff7-8c62a5ab4057"
      },
      "source": [
        "# check the input shape of data\n",
        "for data_batch, labels_batch in train_generator:\n",
        "    print('data batch shape:', data_batch.shape)\n",
        "    print('labels batch shape:', labels_batch.shape)\n",
        "    break"
      ],
      "execution_count": null,
      "outputs": [
        {
          "output_type": "stream",
          "text": [
            "data batch shape: (20, 150, 150, 3)\n",
            "labels batch shape: (20,)\n"
          ],
          "name": "stdout"
        }
      ]
    },
    {
      "cell_type": "code",
      "metadata": {
        "id": "Vhj5Wd0SBAiB",
        "colab": {
          "base_uri": "https://localhost:8080/",
          "height": 50
        },
        "outputId": "7a6c6d11-226d-4e4f-8ac2-00fd5329f096"
      },
      "source": [
        "labels_batch"
      ],
      "execution_count": null,
      "outputs": [
        {
          "output_type": "execute_result",
          "data": {
            "text/plain": [
              "array([0., 1., 0., 0., 1., 0., 1., 1., 1., 1., 1., 0., 0., 0., 1., 1., 1.,\n",
              "       1., 1., 0.], dtype=float32)"
            ]
          },
          "metadata": {
            "tags": []
          },
          "execution_count": 30
        }
      ]
    },
    {
      "cell_type": "markdown",
      "metadata": {
        "id": "P4putgZhjWuz"
      },
      "source": [
        "# Baseline Model"
      ]
    },
    {
      "cell_type": "code",
      "metadata": {
        "id": "8JNEqw4mjcHE",
        "colab": {
          "base_uri": "https://localhost:8080/"
        },
        "outputId": "c831fd43-eaf6-4d98-d24f-6c17531b506e"
      },
      "source": [
        "# Since we are doing classification of binary class: wear mask vs no wear mask.\n",
        "# In our data, we have 50% wearing and 50% no wearing. Assuming that model have 50% chance to predict it right.\n",
        "print(\"baseline model accuracy is \" + str(1/(1+1)))"
      ],
      "execution_count": null,
      "outputs": [
        {
          "output_type": "stream",
          "text": [
            "baseline model accuracy is 0.5\n"
          ],
          "name": "stdout"
        }
      ]
    },
    {
      "cell_type": "markdown",
      "metadata": {
        "id": "r93BD0jCFRIi"
      },
      "source": [
        "# Modeling"
      ]
    },
    {
      "cell_type": "code",
      "metadata": {
        "id": "F_RyU6Y8hCvD"
      },
      "source": [
        "import keras\n",
        "from keras.callbacks import EarlyStopping\n",
        "\n",
        "# early stopping callback\n",
        "# This callback will stop the training when there is no improvement in 5\n",
        "# the validation loss for 10 consecutive epochs.  \n",
        "es = keras.callbacks.EarlyStopping(monitor='val_loss', \n",
        "                                   mode='min',\n",
        "                                   patience=5, \n",
        "                                   restore_best_weights=True)"
      ],
      "execution_count": null,
      "outputs": []
    },
    {
      "cell_type": "markdown",
      "metadata": {
        "id": "sL3c2b6eCAyC"
      },
      "source": [
        "## Model 1: Basic model"
      ]
    },
    {
      "cell_type": "markdown",
      "metadata": {
        "id": "RQ9FkDXNaPJ-"
      },
      "source": [
        "### Model"
      ]
    },
    {
      "cell_type": "code",
      "metadata": {
        "id": "tZC576h5CCMX",
        "colab": {
          "base_uri": "https://localhost:8080/",
          "height": 521
        },
        "outputId": "ea2761fa-37d7-40c9-ccc7-2b26df4a1174"
      },
      "source": [
        "from keras import layers\n",
        "from keras import models\n",
        "\n",
        "# declare model\n",
        "model = models.Sequential()\n",
        "model.add(layers.Conv2D(32, (3, 3), activation='relu',\n",
        "                        input_shape=(150, 150, 3))) # this needs to match with our data prep - upcoming!\n",
        "model.add(layers.MaxPooling2D((2, 2)))\n",
        "model.add(layers.Conv2D(64, (3, 3), activation='relu'))\n",
        "model.add(layers.MaxPooling2D((2, 2)))\n",
        "model.add(layers.Conv2D(128, (3, 3), activation='relu'))\n",
        "model.add(layers.MaxPooling2D((2, 2)))\n",
        "model.add(layers.Conv2D(128, (3, 3), activation='relu'))\n",
        "model.add(layers.MaxPooling2D((2, 2)))\n",
        "model.add(layers.Flatten())\n",
        "model.add(layers.Dense(512, activation='relu'))\n",
        "model.add(layers.Dense(1, activation='sigmoid'))\n",
        "model.summary()"
      ],
      "execution_count": null,
      "outputs": [
        {
          "output_type": "stream",
          "text": [
            "Model: \"sequential_2\"\n",
            "_________________________________________________________________\n",
            "Layer (type)                 Output Shape              Param #   \n",
            "=================================================================\n",
            "conv2d_8 (Conv2D)            (None, 148, 148, 32)      896       \n",
            "_________________________________________________________________\n",
            "max_pooling2d_8 (MaxPooling2 (None, 74, 74, 32)        0         \n",
            "_________________________________________________________________\n",
            "conv2d_9 (Conv2D)            (None, 72, 72, 64)        18496     \n",
            "_________________________________________________________________\n",
            "max_pooling2d_9 (MaxPooling2 (None, 36, 36, 64)        0         \n",
            "_________________________________________________________________\n",
            "conv2d_10 (Conv2D)           (None, 34, 34, 128)       73856     \n",
            "_________________________________________________________________\n",
            "max_pooling2d_10 (MaxPooling (None, 17, 17, 128)       0         \n",
            "_________________________________________________________________\n",
            "conv2d_11 (Conv2D)           (None, 15, 15, 128)       147584    \n",
            "_________________________________________________________________\n",
            "max_pooling2d_11 (MaxPooling (None, 7, 7, 128)         0         \n",
            "_________________________________________________________________\n",
            "flatten_2 (Flatten)          (None, 6272)              0         \n",
            "_________________________________________________________________\n",
            "dense_4 (Dense)              (None, 512)               3211776   \n",
            "_________________________________________________________________\n",
            "dense_5 (Dense)              (None, 1)                 513       \n",
            "=================================================================\n",
            "Total params: 3,453,121\n",
            "Trainable params: 3,453,121\n",
            "Non-trainable params: 0\n",
            "_________________________________________________________________\n"
          ],
          "name": "stdout"
        }
      ]
    },
    {
      "cell_type": "code",
      "metadata": {
        "id": "iqJn71jfhRM0"
      },
      "source": [
        "# compile the model\n",
        "model.compile(optimizer='rmsprop', \n",
        "              loss='binary_crossentropy',\n",
        "              metrics=['accuracy'])"
      ],
      "execution_count": null,
      "outputs": []
    },
    {
      "cell_type": "code",
      "metadata": {
        "id": "rTdbHnVFCN2g",
        "colab": {
          "base_uri": "https://localhost:8080/",
          "height": 843
        },
        "outputId": "a28477f6-8727-495f-fb57-c025cd1bfd06"
      },
      "source": [
        "import time\n",
        "\n",
        "start = time.time()\n",
        "print(\"hello\")\n",
        "\n",
        "history = model.fit_generator(\n",
        "      train_generator,\n",
        "      callbacks=[es],\n",
        "      steps_per_epoch=20, # ideally...len(trainX) // BS == 400/20  == 20\n",
        "      epochs=50,\n",
        "      validation_data=test_generator,\n",
        "      validation_steps=5)  # ideally...len(valX) // BS == 10/20 == 50\n",
        "                            # Total number of steps (batches of samples) to validate before stopping.\n",
        "\n",
        "end = time.time()\n",
        "print(end - start)"
      ],
      "execution_count": null,
      "outputs": [
        {
          "output_type": "stream",
          "text": [
            "hello\n",
            "Epoch 1/50\n",
            " 1/20 [>.............................] - ETA: 0s - loss: 0.7038 - accuracy: 0.3500"
          ],
          "name": "stdout"
        },
        {
          "output_type": "stream",
          "text": [
            "/usr/local/lib/python3.6/dist-packages/PIL/TiffImagePlugin.py:788: UserWarning: Corrupt EXIF data.  Expecting to read 4 bytes but only got 0. \n",
            "  warnings.warn(str(msg))\n"
          ],
          "name": "stderr"
        },
        {
          "output_type": "stream",
          "text": [
            " 4/20 [=====>........................] - ETA: 14s - loss: 1.3614 - accuracy: 0.4250"
          ],
          "name": "stdout"
        },
        {
          "output_type": "stream",
          "text": [
            "/usr/local/lib/python3.6/dist-packages/PIL/Image.py:932: UserWarning: Palette images with Transparency expressed in bytes should be converted to RGBA images\n",
            "  \"Palette images with Transparency expressed in bytes should be \"\n"
          ],
          "name": "stderr"
        },
        {
          "output_type": "stream",
          "text": [
            "20/20 [==============================] - 59s 3s/step - loss: 0.8288 - accuracy: 0.4950 - val_loss: 0.6901 - val_accuracy: 0.5000\n",
            "Epoch 2/50\n",
            "20/20 [==============================] - 50s 2s/step - loss: 0.6931 - accuracy: 0.5825 - val_loss: 0.6846 - val_accuracy: 0.5300\n",
            "Epoch 3/50\n",
            "20/20 [==============================] - 33s 2s/step - loss: 0.6921 - accuracy: 0.5025 - val_loss: 0.6818 - val_accuracy: 0.7200\n",
            "Epoch 4/50\n",
            "20/20 [==============================] - 29s 1s/step - loss: 0.6913 - accuracy: 0.5189 - val_loss: 0.6527 - val_accuracy: 0.6600\n",
            "Epoch 5/50\n",
            "20/20 [==============================] - 28s 1s/step - loss: 0.6914 - accuracy: 0.5743 - val_loss: 0.7409 - val_accuracy: 0.5800\n",
            "Epoch 6/50\n",
            "20/20 [==============================] - 27s 1s/step - loss: 0.7291 - accuracy: 0.5450 - val_loss: 0.6581 - val_accuracy: 0.6900\n",
            "Epoch 7/50\n",
            "20/20 [==============================] - 28s 1s/step - loss: 0.6601 - accuracy: 0.6800 - val_loss: 0.5724 - val_accuracy: 0.7400\n",
            "Epoch 8/50\n",
            "20/20 [==============================] - 28s 1s/step - loss: 0.6281 - accuracy: 0.6500 - val_loss: 0.5538 - val_accuracy: 0.6900\n",
            "Epoch 9/50\n",
            "20/20 [==============================] - 25s 1s/step - loss: 0.5851 - accuracy: 0.6927 - val_loss: 0.5132 - val_accuracy: 0.7200\n",
            "Epoch 10/50\n",
            "20/20 [==============================] - 30s 2s/step - loss: 0.5730 - accuracy: 0.7250 - val_loss: 0.4400 - val_accuracy: 0.8200\n",
            "Epoch 11/50\n",
            "20/20 [==============================] - 27s 1s/step - loss: 0.5314 - accuracy: 0.7300 - val_loss: 0.4768 - val_accuracy: 0.7500\n",
            "Epoch 12/50\n",
            "20/20 [==============================] - 28s 1s/step - loss: 0.4894 - accuracy: 0.7650 - val_loss: 0.5628 - val_accuracy: 0.6800\n",
            "Epoch 13/50\n",
            "20/20 [==============================] - 28s 1s/step - loss: 0.5113 - accuracy: 0.7450 - val_loss: 0.3913 - val_accuracy: 0.8800\n",
            "Epoch 14/50\n",
            "20/20 [==============================] - 26s 1s/step - loss: 0.4167 - accuracy: 0.8225 - val_loss: 0.3118 - val_accuracy: 0.9100\n",
            "Epoch 15/50\n",
            "20/20 [==============================] - 27s 1s/step - loss: 0.3884 - accuracy: 0.8375 - val_loss: 0.3439 - val_accuracy: 0.8600\n",
            "Epoch 16/50\n",
            "20/20 [==============================] - 28s 1s/step - loss: 0.3218 - accuracy: 0.8625 - val_loss: 0.2618 - val_accuracy: 0.9000\n",
            "Epoch 17/50\n",
            "20/20 [==============================] - 28s 1s/step - loss: 0.2862 - accuracy: 0.8917 - val_loss: 0.3227 - val_accuracy: 0.8700\n",
            "Epoch 18/50\n",
            "20/20 [==============================] - 28s 1s/step - loss: 0.3695 - accuracy: 0.8640 - val_loss: 0.3684 - val_accuracy: 0.8400\n",
            "Epoch 19/50\n",
            "20/20 [==============================] - 25s 1s/step - loss: 0.1766 - accuracy: 0.9300 - val_loss: 0.7073 - val_accuracy: 0.7500\n",
            "Epoch 20/50\n",
            "20/20 [==============================] - 26s 1s/step - loss: 0.2015 - accuracy: 0.9175 - val_loss: 0.4196 - val_accuracy: 0.8900\n",
            "Epoch 21/50\n",
            "20/20 [==============================] - 27s 1s/step - loss: 0.1695 - accuracy: 0.9345 - val_loss: 0.3652 - val_accuracy: 0.8500\n",
            "667.5121665000916\n"
          ],
          "name": "stdout"
        }
      ]
    },
    {
      "cell_type": "code",
      "metadata": {
        "id": "deoG_qKwCnSr",
        "colab": {
          "base_uri": "https://localhost:8080/",
          "height": 545
        },
        "outputId": "b484e2ba-cf07-4f0c-821b-23a11d54836e"
      },
      "source": [
        "import matplotlib.pyplot as plt\n",
        "\n",
        "#plot the learning curve \n",
        "#compare accuracy and loss of train and validation data.\n",
        "acc = history.history['accuracy']\n",
        "val_acc = history.history['val_accuracy']\n",
        "loss = history.history['loss']\n",
        "val_loss = history.history['val_loss']\n",
        "\n",
        "epochs = range(len(acc))\n",
        "\n",
        "plt.plot(epochs, acc, 'bo', label='Training acc')\n",
        "plt.plot(epochs, val_acc, 'b', label='Validation acc')\n",
        "plt.title('Training and validation accuracy')\n",
        "plt.legend()\n",
        "\n",
        "plt.figure()\n",
        "\n",
        "plt.plot(epochs, loss, 'bo', label='Training loss')\n",
        "plt.plot(epochs, val_loss, 'b', label='Validation loss')\n",
        "plt.title('Training and validation loss')\n",
        "plt.legend()\n",
        "\n",
        "plt.show()"
      ],
      "execution_count": null,
      "outputs": [
        {
          "output_type": "display_data",
          "data": {
            "image/png": "[encoded data removed]",
            "text/plain": [
              "<Figure size 432x288 with 1 Axes>"
            ]
          },
          "metadata": {
            "tags": [],
            "needs_background": "light"
          }
        },
        {
          "output_type": "display_data",
          "data": {
            "image/png": "[encoded data removed]",
            "text/plain": [
              "<Figure size 432x288 with 1 Axes>"
            ]
          },
          "metadata": {
            "tags": [],
            "needs_background": "light"
          }
        }
      ]
    },
    {
      "cell_type": "markdown",
      "metadata": {
        "id": "zo_5M0iNaSVS"
      },
      "source": [
        "### Model Evaluation"
      ]
    },
    {
      "cell_type": "code",
      "metadata": {
        "id": "aE2SCVRh-Ey6",
        "colab": {
          "base_uri": "https://localhost:8080/",
          "height": 34
        },
        "outputId": "7a1aac6b-9375-44f0-dc99-2c1e4b98d4de"
      },
      "source": [
        "# we can only call test_generator.classes to make confusion matrix and classification report\n",
        "# if we don't add shuffle = False, then the test data will shffule.\n",
        "# however, we only call test_generator.classes from test_generator.\n",
        "# while the image data are shffule, we still use the previous label. our preds result will not as good as we expect, since the data and label do not match.\n",
        "# In this case, we need to rewrite test_generator and add the condition shuffle = False.\n",
        "test_generator = test_datagen.flow_from_directory(\n",
        "        test_dir,\n",
        "        target_size=(150, 150),\n",
        "        batch_size=20,\n",
        "        shuffle = False,\n",
        "        class_mode='binary')\n"
      ],
      "execution_count": null,
      "outputs": [
        {
          "output_type": "stream",
          "text": [
            "Found 200 images belonging to 2 classes.\n"
          ],
          "name": "stdout"
        }
      ]
    },
    {
      "cell_type": "code",
      "metadata": {
        "id": "Di8ohiSyaX9u",
        "colab": {
          "base_uri": "https://localhost:8080/",
          "height": 50
        },
        "outputId": "3967860c-0be3-40fa-c501-90a42214a253"
      },
      "source": [
        "from sklearn.metrics import confusion_matrix\n",
        "from sklearn.metrics import classification_report\n",
        "preds = np.round(model.predict(test_generator),0)\n"
      ],
      "execution_count": null,
      "outputs": [
        {
          "output_type": "stream",
          "text": [
            "/usr/local/lib/python3.6/dist-packages/PIL/TiffImagePlugin.py:788: UserWarning: Corrupt EXIF data.  Expecting to read 4 bytes but only got 0. \n",
            "  warnings.warn(str(msg))\n"
          ],
          "name": "stderr"
        }
      ]
    },
    {
      "cell_type": "code",
      "metadata": {
        "id": "1MGkVi0Cpa5Y",
        "colab": {
          "base_uri": "https://localhost:8080/",
          "height": 202
        },
        "outputId": "731b43e2-9536-4bdb-f6a3-24b746463732"
      },
      "source": [
        "# confusion matrix and classification report\n",
        "print(confusion_matrix(test_generator.classes, preds))\n",
        "print(classification_report(test_generator.classes, preds))"
      ],
      "execution_count": null,
      "outputs": [
        {
          "output_type": "stream",
          "text": [
            "[[92  8]\n",
            " [18 82]]\n",
            "              precision    recall  f1-score   support\n",
            "\n",
            "           0       0.84      0.92      0.88       100\n",
            "           1       0.91      0.82      0.86       100\n",
            "\n",
            "    accuracy                           0.87       200\n",
            "   macro avg       0.87      0.87      0.87       200\n",
            "weighted avg       0.87      0.87      0.87       200\n",
            "\n"
          ],
          "name": "stdout"
        }
      ]
    },
    {
      "cell_type": "markdown",
      "metadata": {
        "id": "Q8gZM2Q_rAyE"
      },
      "source": [
        "## Model 2: Pre-train model"
      ]
    },
    {
      "cell_type": "code",
      "metadata": {
        "id": "0FAezYTFEOvg",
        "colab": {
          "base_uri": "https://localhost:8080/",
          "height": 50
        },
        "outputId": "9db907a8-fae0-4d7e-f840-a6ac20e66a1d"
      },
      "source": [
        "# set the data again (since we unshuffle for prediction in last model)\n",
        "from keras.preprocessing.image import ImageDataGenerator\n",
        "\n",
        "# All images will be rescaled by 1./255\n",
        "train_datagen = ImageDataGenerator(rescale=1./255)\n",
        "test_datagen = ImageDataGenerator(rescale=1./255)\n",
        "\n",
        "train_generator = train_datagen.flow_from_directory(\n",
        "        # This is the target directory\n",
        "        train_dir,\n",
        "        # All images will be resized to 150x150\n",
        "        target_size=(150, 150),\n",
        "        batch_size=20,\n",
        "        # Since we use binary_crossentropy loss, we need binary labels\n",
        "        class_mode='binary')\n",
        "\n",
        "test_generator = test_datagen.flow_from_directory(\n",
        "        test_dir,\n",
        "        target_size=(150, 150),\n",
        "        batch_size=20,\n",
        "        class_mode='binary')"
      ],
      "execution_count": null,
      "outputs": [
        {
          "output_type": "stream",
          "text": [
            "Found 817 images belonging to 2 classes.\n",
            "Found 200 images belonging to 2 classes.\n"
          ],
          "name": "stdout"
        }
      ]
    },
    {
      "cell_type": "code",
      "metadata": {
        "id": "ltRltWCdrHyj",
        "colab": {
          "base_uri": "https://localhost:8080/",
          "height": 50
        },
        "outputId": "1ed37503-2aa3-44f5-e629-ad2f3703f9f4"
      },
      "source": [
        "from keras.applications import VGG16\n",
        "\n",
        "conv_base = VGG16(weights='imagenet', # weights from imagenet - very important! otherwise it's just the network structure\n",
        "                  include_top=False, # this means that our dense layer will be trained specific to our small data problem that we are solving\n",
        "                  input_shape=(150, 150, 3)) # this is the shape of the data from our data generator (we know cats vs. dogs is 150 x 150)"
      ],
      "execution_count": null,
      "outputs": [
        {
          "output_type": "stream",
          "text": [
            "Downloading data from https://storage.googleapis.com/tensorflow/keras-applications/vgg16/vgg16_weights_tf_dim_ordering_tf_kernels_notop.h5\n",
            "58892288/58889256 [==============================] - 0s 0us/step\n"
          ],
          "name": "stdout"
        }
      ]
    },
    {
      "cell_type": "code",
      "metadata": {
        "id": "nMr3oXuZrXZR",
        "colab": {
          "base_uri": "https://localhost:8080/",
          "height": 790
        },
        "outputId": "37872b6c-4d21-436f-fb8a-1549c1a847d3"
      },
      "source": [
        "conv_base.summary()"
      ],
      "execution_count": null,
      "outputs": [
        {
          "output_type": "stream",
          "text": [
            "Model: \"vgg16\"\n",
            "_________________________________________________________________\n",
            "Layer (type)                 Output Shape              Param #   \n",
            "=================================================================\n",
            "input_1 (InputLayer)         [(None, 150, 150, 3)]     0         \n",
            "_________________________________________________________________\n",
            "block1_conv1 (Conv2D)        (None, 150, 150, 64)      1792      \n",
            "_________________________________________________________________\n",
            "block1_conv2 (Conv2D)        (None, 150, 150, 64)      36928     \n",
            "_________________________________________________________________\n",
            "block1_pool (MaxPooling2D)   (None, 75, 75, 64)        0         \n",
            "_________________________________________________________________\n",
            "block2_conv1 (Conv2D)        (None, 75, 75, 128)       73856     \n",
            "_________________________________________________________________\n",
            "block2_conv2 (Conv2D)        (None, 75, 75, 128)       147584    \n",
            "_________________________________________________________________\n",
            "block2_pool (MaxPooling2D)   (None, 37, 37, 128)       0         \n",
            "_________________________________________________________________\n",
            "block3_conv1 (Conv2D)        (None, 37, 37, 256)       295168    \n",
            "_________________________________________________________________\n",
            "block3_conv2 (Conv2D)        (None, 37, 37, 256)       590080    \n",
            "_________________________________________________________________\n",
            "block3_conv3 (Conv2D)        (None, 37, 37, 256)       590080    \n",
            "_________________________________________________________________\n",
            "block3_pool (MaxPooling2D)   (None, 18, 18, 256)       0         \n",
            "_________________________________________________________________\n",
            "block4_conv1 (Conv2D)        (None, 18, 18, 512)       1180160   \n",
            "_________________________________________________________________\n",
            "block4_conv2 (Conv2D)        (None, 18, 18, 512)       2359808   \n",
            "_________________________________________________________________\n",
            "block4_conv3 (Conv2D)        (None, 18, 18, 512)       2359808   \n",
            "_________________________________________________________________\n",
            "block4_pool (MaxPooling2D)   (None, 9, 9, 512)         0         \n",
            "_________________________________________________________________\n",
            "block5_conv1 (Conv2D)        (None, 9, 9, 512)         2359808   \n",
            "_________________________________________________________________\n",
            "block5_conv2 (Conv2D)        (None, 9, 9, 512)         2359808   \n",
            "_________________________________________________________________\n",
            "block5_conv3 (Conv2D)        (None, 9, 9, 512)         2359808   \n",
            "_________________________________________________________________\n",
            "block5_pool (MaxPooling2D)   (None, 4, 4, 512)         0         \n",
            "=================================================================\n",
            "Total params: 14,714,688\n",
            "Trainable params: 14,714,688\n",
            "Non-trainable params: 0\n",
            "_________________________________________________________________\n"
          ],
          "name": "stdout"
        }
      ]
    },
    {
      "cell_type": "markdown",
      "metadata": {
        "id": "aXl3jBCzyxlj"
      },
      "source": [
        "### Model"
      ]
    },
    {
      "cell_type": "code",
      "metadata": {
        "id": "dJx-fECuxn3u"
      },
      "source": [
        "# declare a new model with pre-train model VGG16\n",
        "model = models.Sequential()\n",
        "model.add(conv_base)\n",
        "model.add(layers.Flatten())\n",
        "model.add(layers.Dense(256, activation='relu'))\n",
        "model.add(layers.Dense(1, activation='sigmoid'))"
      ],
      "execution_count": null,
      "outputs": []
    },
    {
      "cell_type": "code",
      "metadata": {
        "id": "xG-FXbLHrefG"
      },
      "source": [
        "conv_base.trainable = True\n",
        "\n",
        "# frozen layers up until 'block4_pool', and the layers 'block5_conv1', 'block5_conv2' and 'block5_conv3' should be trainable.\n",
        "set_trainable = False\n",
        "for layer in conv_base.layers:\n",
        "    if layer.name == 'block5_conv1':\n",
        "        set_trainable = True\n",
        "    if set_trainable:\n",
        "        layer.trainable = True\n",
        "    else:\n",
        "        layer.trainable = False"
      ],
      "execution_count": null,
      "outputs": []
    },
    {
      "cell_type": "code",
      "metadata": {
        "id": "Uajro6VirhbM",
        "colab": {
          "base_uri": "https://localhost:8080/",
          "height": 810
        },
        "outputId": "9d820d30-7373-4ab2-8694-675b50505eee"
      },
      "source": [
        "start = time.time()\n",
        "print(\"hello\")\n",
        "\n",
        "model.compile(loss='binary_crossentropy',\n",
        "              optimizer=optimizers.RMSprop(lr=1e-5),\n",
        "              metrics=['accuracy'])\n",
        "\n",
        "history = model.fit_generator(\n",
        "      train_generator,\n",
        "      steps_per_epoch=20,\n",
        "      callbacks=[es],\n",
        "      epochs=50,\n",
        "      validation_data=test_generator,\n",
        "      validation_steps=5)\n",
        "\n",
        "end = time.time()\n",
        "print(end - start)"
      ],
      "execution_count": null,
      "outputs": [
        {
          "output_type": "stream",
          "text": [
            "hello\n",
            "Epoch 1/50\n",
            "15/20 [=====================>........] - ETA: 25s - loss: 0.6258 - accuracy: 0.6498"
          ],
          "name": "stdout"
        },
        {
          "output_type": "stream",
          "text": [
            "/usr/local/lib/python3.6/dist-packages/PIL/TiffImagePlugin.py:788: UserWarning: Corrupt EXIF data.  Expecting to read 4 bytes but only got 0. \n",
            "  warnings.warn(str(msg))\n"
          ],
          "name": "stderr"
        },
        {
          "output_type": "stream",
          "text": [
            "20/20 [==============================] - 131s 7s/step - loss: 0.6168 - accuracy: 0.6549 - val_loss: 0.4566 - val_accuracy: 0.8800\n",
            "Epoch 2/50\n",
            " 2/20 [==>...........................] - ETA: 50s - loss: 0.6083 - accuracy: 0.7000"
          ],
          "name": "stdout"
        },
        {
          "output_type": "stream",
          "text": [
            "/usr/local/lib/python3.6/dist-packages/PIL/Image.py:932: UserWarning: Palette images with Transparency expressed in bytes should be converted to RGBA images\n",
            "  \"Palette images with Transparency expressed in bytes should be \"\n"
          ],
          "name": "stderr"
        },
        {
          "output_type": "stream",
          "text": [
            "20/20 [==============================] - 137s 7s/step - loss: 0.5448 - accuracy: 0.7525 - val_loss: 0.4029 - val_accuracy: 0.8600\n",
            "Epoch 3/50\n",
            "20/20 [==============================] - 135s 7s/step - loss: 0.4372 - accuracy: 0.8575 - val_loss: 0.3343 - val_accuracy: 0.9400\n",
            "Epoch 4/50\n",
            "20/20 [==============================] - 130s 7s/step - loss: 0.3674 - accuracy: 0.9043 - val_loss: 0.2574 - val_accuracy: 0.9600\n",
            "Epoch 5/50\n",
            "20/20 [==============================] - 134s 7s/step - loss: 0.3229 - accuracy: 0.8900 - val_loss: 0.2474 - val_accuracy: 0.9500\n",
            "Epoch 6/50\n",
            "20/20 [==============================] - 130s 6s/step - loss: 0.2610 - accuracy: 0.9270 - val_loss: 0.2485 - val_accuracy: 0.9600\n",
            "Epoch 7/50\n",
            "20/20 [==============================] - 135s 7s/step - loss: 0.2076 - accuracy: 0.9450 - val_loss: 0.1950 - val_accuracy: 0.9600\n",
            "Epoch 8/50\n",
            "20/20 [==============================] - 134s 7s/step - loss: 0.1931 - accuracy: 0.9496 - val_loss: 0.2211 - val_accuracy: 0.9300\n",
            "Epoch 9/50\n",
            "20/20 [==============================] - 133s 7s/step - loss: 0.1561 - accuracy: 0.9597 - val_loss: 0.2640 - val_accuracy: 0.8700\n",
            "Epoch 10/50\n",
            "20/20 [==============================] - 133s 7s/step - loss: 0.1128 - accuracy: 0.9824 - val_loss: 0.3281 - val_accuracy: 0.8300\n",
            "Epoch 11/50\n",
            "20/20 [==============================] - 136s 7s/step - loss: 0.0958 - accuracy: 0.9798 - val_loss: 0.1365 - val_accuracy: 0.9600\n",
            "Epoch 12/50\n",
            "20/20 [==============================] - 133s 7s/step - loss: 0.0939 - accuracy: 0.9798 - val_loss: 0.1105 - val_accuracy: 0.9800\n",
            "Epoch 13/50\n",
            "20/20 [==============================] - 134s 7s/step - loss: 0.0681 - accuracy: 0.9924 - val_loss: 0.1172 - val_accuracy: 0.9500\n",
            "Epoch 14/50\n",
            "20/20 [==============================] - 132s 7s/step - loss: 0.0602 - accuracy: 0.9899 - val_loss: 0.1509 - val_accuracy: 0.9600\n",
            "Epoch 15/50\n",
            "20/20 [==============================] - 133s 7s/step - loss: 0.0489 - accuracy: 0.9950 - val_loss: 0.0896 - val_accuracy: 0.9700\n",
            "Epoch 16/50\n",
            "20/20 [==============================] - 136s 7s/step - loss: 0.0396 - accuracy: 0.9950 - val_loss: 0.1417 - val_accuracy: 0.9600\n",
            "Epoch 17/50\n",
            "20/20 [==============================] - 133s 7s/step - loss: 0.0300 - accuracy: 0.9975 - val_loss: 0.0937 - val_accuracy: 0.9700\n",
            "Epoch 18/50\n",
            "20/20 [==============================] - 131s 7s/step - loss: 0.0252 - accuracy: 1.0000 - val_loss: 0.1115 - val_accuracy: 0.9500\n",
            "Epoch 19/50\n",
            "20/20 [==============================] - 134s 7s/step - loss: 0.0206 - accuracy: 0.9975 - val_loss: 0.1829 - val_accuracy: 0.9500\n",
            "Epoch 20/50\n",
            "20/20 [==============================] - 135s 7s/step - loss: 0.0162 - accuracy: 1.0000 - val_loss: 0.1037 - val_accuracy: 0.9400\n",
            "2791.1720077991486\n"
          ],
          "name": "stdout"
        }
      ]
    },
    {
      "cell_type": "code",
      "metadata": {
        "id": "Ua-js_23ry4b",
        "colab": {
          "base_uri": "https://localhost:8080/"
        },
        "outputId": "2e007ea4-902e-4841-c5e2-f0e5bf7411e3"
      },
      "source": [
        "#plot the learning curve \n",
        "#compare accuracy and loss of train and validation data.\n",
        "acc = history.history['accuracy']\n",
        "val_acc = history.history['val_accuracy']\n",
        "loss = history.history['loss']\n",
        "val_loss = history.history['val_loss']\n",
        "\n",
        "epochs = range(len(acc))\n",
        "\n",
        "plt.plot(epochs, acc, 'bo', label='Training acc')\n",
        "plt.plot(epochs, val_acc, 'b', label='Validation acc')\n",
        "plt.title('Training and validation accuracy')\n",
        "plt.legend()\n",
        "\n",
        "plt.figure()\n",
        "\n",
        "plt.plot(epochs, loss, 'bo', label='Training loss')\n",
        "plt.plot(epochs, val_loss, 'b', label='Validation loss')\n",
        "plt.title('Training and validation loss')\n",
        "plt.legend()\n",
        "\n",
        "plt.show()"
      ],
      "execution_count": null,
      "outputs": [
        {
          "output_type": "display_data",
          "data": {
            "image/png": "[encoded data removed]",
            "text/plain": [
              "<Figure size 432x288 with 1 Axes>"
            ]
          },
          "metadata": {
            "tags": [],
            "needs_background": "light"
          }
        },
        {
          "output_type": "display_data",
          "data": {
            "image/png": "[encoded data removed]",
            "text/plain": [
              "<Figure size 432x288 with 1 Axes>"
            ]
          },
          "metadata": {
            "tags": [],
            "needs_background": "light"
          }
        }
      ]
    },
    {
      "cell_type": "markdown",
      "metadata": {
        "id": "RycQo6Bty4ah"
      },
      "source": [
        "### Model Evaluation"
      ]
    },
    {
      "cell_type": "code",
      "metadata": {
        "id": "t-24l2oD--oL",
        "colab": {
          "base_uri": "https://localhost:8080/"
        },
        "outputId": "9af2ec11-e41d-4ca8-c810-63eed518daa1"
      },
      "source": [
        "#rewrite test_generator again.\n",
        "test_generator = test_datagen.flow_from_directory(\n",
        "        test_dir,\n",
        "        target_size=(150, 150),\n",
        "        batch_size=20,\n",
        "        shuffle = False,\n",
        "        class_mode='binary')"
      ],
      "execution_count": null,
      "outputs": [
        {
          "output_type": "stream",
          "text": [
            "Found 200 images belonging to 2 classes.\n"
          ],
          "name": "stdout"
        }
      ]
    },
    {
      "cell_type": "code",
      "metadata": {
        "id": "kYSZgg6YpjnD",
        "colab": {
          "base_uri": "https://localhost:8080/",
          "height": 50
        },
        "outputId": "eca6f810-f0c6-4444-db65-c1bf18b92be8"
      },
      "source": [
        "from sklearn.metrics import confusion_matrix\n",
        "from sklearn.metrics import classification_report\n",
        "preds = np.round(model.predict(test_generator),0)"
      ],
      "execution_count": null,
      "outputs": [
        {
          "output_type": "stream",
          "text": [
            "/usr/local/lib/python3.6/dist-packages/PIL/TiffImagePlugin.py:788: UserWarning: Corrupt EXIF data.  Expecting to read 4 bytes but only got 0. \n",
            "  warnings.warn(str(msg))\n"
          ],
          "name": "stderr"
        }
      ]
    },
    {
      "cell_type": "code",
      "metadata": {
        "id": "6qtX3vIDpkTY",
        "colab": {
          "base_uri": "https://localhost:8080/"
        },
        "outputId": "72287283-7d28-4401-c7fc-e4efd5225274"
      },
      "source": [
        "print(confusion_matrix(test_generator.classes, preds))\n",
        "print(classification_report(test_generator.classes, preds))"
      ],
      "execution_count": null,
      "outputs": [
        {
          "output_type": "stream",
          "text": [
            "[[98  2]\n",
            " [ 7 93]]\n",
            "              precision    recall  f1-score   support\n",
            "\n",
            "           0       0.93      0.98      0.96       100\n",
            "           1       0.98      0.93      0.95       100\n",
            "\n",
            "    accuracy                           0.95       200\n",
            "   macro avg       0.96      0.96      0.95       200\n",
            "weighted avg       0.96      0.95      0.95       200\n",
            "\n"
          ],
          "name": "stdout"
        }
      ]
    }
  ]
}